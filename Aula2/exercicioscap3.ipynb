{
 "cells": [
  {
   "cell_type": "markdown",
   "metadata": {},
   "source": [
    "### Exercicio 1"
   ]
  },
  {
   "cell_type": "code",
   "execution_count": null,
   "metadata": {},
   "outputs": [
    {
     "name": "stdout",
     "output_type": "stream",
     "text": [
      "['Barcelona', 'Real Madrid', 'Atletico de Madrid']\n",
      "['Atletico de Madrid', 'Athletic Club']\n",
      "['Athletic Club', 'Atletico de Madrid', 'Barcelona', 'Real Madrid']\n",
      "1\n"
     ]
    }
   ],
   "source": [
    "times = ['Barcelona','Real Madrid','Atletico de Madrid','Athletic Club']\n",
    "\n",
    "print(times[0:3])\n",
    "print(times[2:])\n",
    "\n",
    "print(sorted(times))   # Ordem alfabética\n",
    "\n",
    "print(times.index('Barcelona'))"
   ]
  },
  {
   "cell_type": "markdown",
   "metadata": {},
   "source": [
    "### Exercicio 2"
   ]
  },
  {
   "cell_type": "code",
   "execution_count": null,
   "metadata": {},
   "outputs": [
    {
     "name": "stdout",
     "output_type": "stream",
     "text": [
      "{'Xiaomi', 'Nokia', 'Ericsson', 'Samsung', 'Apple'}\n",
      "{'Apple', 'Nokia'}\n"
     ]
    }
   ],
   "source": [
    "loja1 = {'Samsung','Nokia','Apple','Ericsson',}\n",
    "loja2={'Xiaomi','Apple','Nokia'}\n",
    "\n",
    "print(loja1|loja2) #Uniao\n",
    "\n",
    "print(loja1 & loja2)  #Interseccao"
   ]
  },
  {
   "cell_type": "markdown",
   "metadata": {},
   "source": [
    "### Exercicio 3"
   ]
  },
  {
   "cell_type": "code",
   "execution_count": 25,
   "metadata": {},
   "outputs": [
    {
     "name": "stdout",
     "output_type": "stream",
     "text": [
      "{'nome': 'a', 'media': 50.0, 'Situação': 'Aprovado'}\n"
     ]
    }
   ],
   "source": [
    "nome=input('Digite seu nome:')\n",
    "media=float(input('Digite a media:'))\n",
    "\n",
    "dic={\"nome\":nome,\"media\":media}\n",
    "\n",
    "if media <50:\n",
    "    situacao = 'Reprovado'\n",
    "\n",
    "else:\n",
    "    situacao='Aprovado'\n",
    "\n",
    "\n",
    "dic={\"nome\":nome,\"media\":media,\"Situação\":situacao}\n",
    "\n",
    "print(dic)\n"
   ]
  },
  {
   "cell_type": "markdown",
   "metadata": {},
   "source": [
    "### Exercicio 4"
   ]
  },
  {
   "cell_type": "code",
   "execution_count": 27,
   "metadata": {},
   "outputs": [
    {
     "name": "stdout",
     "output_type": "stream",
     "text": [
      "A pessoa mais pesada é Pedro com 100.0 kg.\n",
      "A pessoa mais leve é Joao com 60.0 kg.\n"
     ]
    }
   ],
   "source": [
    "pessoas=[]\n",
    "maxpeso=0\n",
    "\n",
    "for i in range(3):\n",
    "    nome=input(\"Digite seu nome:\")\n",
    "    peso=float(input(\"Digite seu peso\"))\n",
    "\n",
    "    pessoas.append({'nome':nome,'peso':peso})\n",
    "\n",
    "mais_pesada = pessoas[0]\n",
    "mais_leve = pessoas[0]\n",
    "\n",
    "\n",
    "for pessoa in pessoas[1:]:\n",
    "    if pessoa[\"peso\"] > mais_pesada[\"peso\"]:\n",
    "        mais_pesada = pessoa\n",
    "    if pessoa[\"peso\"] < mais_leve[\"peso\"]:\n",
    "        mais_leve = pessoa\n",
    "\n",
    "\n",
    "print(f'A pessoa mais pesada é {mais_pesada[\"nome\"]} com {mais_pesada[\"peso\"]} kg.')\n",
    "print(f'A pessoa mais leve é {mais_leve[\"nome\"]} com {mais_leve[\"peso\"]} kg.')\n",
    "\n",
    "\n",
    "\n"
   ]
  },
  {
   "cell_type": "markdown",
   "metadata": {},
   "source": [
    "### Exercicio 5\n"
   ]
  },
  {
   "cell_type": "code",
   "execution_count": null,
   "metadata": {},
   "outputs": [
    {
     "name": "stdout",
     "output_type": "stream",
     "text": [
      "A media de idade do grupo é de 29.666666666666668\n",
      "A quantidade de mulheres que tem menos de 20 anos é/são de : 1\n"
     ]
    }
   ],
   "source": [
    "n=int(input(\"Digite o numero de pessoas:\"))\n",
    "pessoas=[]\n",
    "media_idade=0\n",
    "count=0\n",
    "\n",
    "for i in range(n):\n",
    "    nome=input(\"Digite o nome:\")\n",
    "    idade= int(input(\"Digite a idade:\"))\n",
    "    sexo=input(\"Digite seu sexo(M para Masculino e F para Feminino))\")\n",
    "    pessoas.append({'nome':nome,'idade':idade,'sexo':sexo})\n",
    "    \n",
    "    media_idade = media_idade+idade\n",
    "\n",
    "    if sexo=='F' and idade <20:\n",
    "        count+=1\n",
    "\n",
    "\n",
    "print(f'A media de idade do grupo é de {media_idade/3}')\n",
    "print(f'A quantidade de mulheres que tem menos de 20 anos é/são de : {count}')\n",
    "\n",
    "\n"
   ]
  }
 ],
 "metadata": {
  "kernelspec": {
   "display_name": "Python 3",
   "language": "python",
   "name": "python3"
  },
  "language_info": {
   "codemirror_mode": {
    "name": "ipython",
    "version": 3
   },
   "file_extension": ".py",
   "mimetype": "text/x-python",
   "name": "python",
   "nbconvert_exporter": "python",
   "pygments_lexer": "ipython3",
   "version": "3.13.0"
  }
 },
 "nbformat": 4,
 "nbformat_minor": 2
}
