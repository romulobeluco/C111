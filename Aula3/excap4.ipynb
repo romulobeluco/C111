{
 "cells": [
  {
   "cell_type": "markdown",
   "metadata": {},
   "source": [
    "### Exercicio 1"
   ]
  },
  {
   "cell_type": "code",
   "execution_count": 10,
   "metadata": {},
   "outputs": [
    {
     "name": "stdout",
     "output_type": "stream",
     "text": [
      "[1. 1. 1. 1. 1. 1. 1. 1.]\n",
      "[6 4 3 6 3 6 2 5]\n",
      "[7. 5. 4. 7. 4. 7. 3. 6.]\n",
      "[[7. 5.]\n",
      " [4. 7.]\n",
      " [4. 7.]\n",
      " [3. 6.]]\n"
     ]
    }
   ],
   "source": [
    "import numpy as np\n",
    "\n",
    "arr= np.ones(8)\n",
    "print(arr)\n",
    "arr2=np.random.randint(0,9,8)\n",
    "print(arr2)\n",
    "\n",
    "soma= arr2 + arr\n",
    "\n",
    "print(soma)\n",
    "\n",
    "if soma.sum() >=40:\n",
    "    soma=soma.reshape(4,2)\n",
    "\n",
    "else:\n",
    "    soma=soma.reshape(2,4)\n",
    "\n",
    "print(soma)\n"
   ]
  },
  {
   "cell_type": "markdown",
   "metadata": {},
   "source": [
    "### Exercicio 2"
   ]
  },
  {
   "cell_type": "code",
   "execution_count": 17,
   "metadata": {},
   "outputs": [
    {
     "name": "stdout",
     "output_type": "stream",
     "text": [
      "[  0   2   4   6   8  10  12  14  16  18  20  22  24  26  28  30  32  34\n",
      "  36  38  40  42  44  46  48  50  52  54  56  58  60  62  64  66  68  70\n",
      "  72  74  76  78  80  82  84  86  88  90  92  94  96  98 100]\n"
     ]
    }
   ],
   "source": [
    "arr= np.arange(0,51,2)\n",
    "arr2=np.arange(100,50,-2)\n",
    "\n",
    "total= np.concatenate((arr,arr2))\n",
    "total=np.sort(total)\n",
    "print(total)"
   ]
  },
  {
   "cell_type": "markdown",
   "metadata": {},
   "source": [
    "### Exercicio 3"
   ]
  },
  {
   "cell_type": "code",
   "execution_count": 23,
   "metadata": {},
   "outputs": [
    {
     "ename": "ValueError",
     "evalue": "low >= high",
     "output_type": "error",
     "traceback": [
      "\u001b[1;31m---------------------------------------------------------------------------\u001b[0m",
      "\u001b[1;31mValueError\u001b[0m                                Traceback (most recent call last)",
      "Cell \u001b[1;32mIn[23], line 6\u001b[0m\n\u001b[0;32m      2\u001b[0m colunas\u001b[38;5;241m=\u001b[39m\u001b[38;5;241m2\u001b[39m\n\u001b[0;32m      4\u001b[0m arr\u001b[38;5;241m=\u001b[39mnp\u001b[38;5;241m.\u001b[39mzeros((\u001b[38;5;241m2\u001b[39m,\u001b[38;5;241m2\u001b[39m))\n\u001b[1;32m----> 6\u001b[0m arr \u001b[38;5;241m=\u001b[39m \u001b[43mnp\u001b[49m\u001b[38;5;241;43m.\u001b[39;49m\u001b[43mrandom\u001b[49m\u001b[38;5;241;43m.\u001b[39;49m\u001b[43mrandint\u001b[49m\u001b[43m(\u001b[49m\u001b[38;5;241;43m1\u001b[39;49m\u001b[43m,\u001b[49m\u001b[38;5;241;43m1\u001b[39;49m\u001b[43m,\u001b[49m\u001b[43m \u001b[49m\u001b[43m(\u001b[49m\u001b[43mlinhas\u001b[49m\u001b[43m,\u001b[49m\u001b[43m \u001b[49m\u001b[43mcolunas\u001b[49m\u001b[43m)\u001b[49m\u001b[43m)\u001b[49m\n\u001b[0;32m      8\u001b[0m \u001b[38;5;28mprint\u001b[39m(arr)\n",
      "File \u001b[1;32mnumpy\\\\random\\\\mtrand.pyx:796\u001b[0m, in \u001b[0;36mnumpy.random.mtrand.RandomState.randint\u001b[1;34m()\u001b[0m\n",
      "File \u001b[1;32mnumpy\\\\random\\\\_bounded_integers.pyx:2885\u001b[0m, in \u001b[0;36mnumpy.random._bounded_integers._rand_int32\u001b[1;34m()\u001b[0m\n",
      "\u001b[1;31mValueError\u001b[0m: low >= high"
     ]
    }
   ],
   "source": [
    "linhas=2\n",
    "colunas=2\n",
    "\n",
    "arr=np.zeros((2,2))\n",
    "\n",
    "arr = np.random.randint(1,1, (linhas, colunas))\n",
    "\n",
    "print(arr)"
   ]
  },
  {
   "cell_type": "markdown",
   "metadata": {},
   "source": [
    "### Exercicio 4"
   ]
  },
  {
   "cell_type": "code",
   "execution_count": 28,
   "metadata": {},
   "outputs": [
    {
     "name": "stdout",
     "output_type": "stream",
     "text": [
      "Matriz:\n",
      " [[1 2 3]\n",
      " [4 5 6]\n",
      " [7 8 9]]\n",
      "Número total de elementos: 9 (ímpar)\n"
     ]
    }
   ],
   "source": [
    "import numpy as np\n",
    "\n",
    "arr = np.array([[1,2,3], [4,5,6], [7,8,9]])\n",
    "\n",
    "linhas, colunas = arr.shape\n",
    "\n",
    "\n",
    "num_elementos = linhas * colunas\n",
    "\n",
    "\n",
    "tipo = \"par\" if num_elementos % 2 == 0 else \"ímpar\"\n",
    "\n",
    "\n",
    "# Exibindo resultados\n",
    "print(\"Matriz:\\n\", arr)\n",
    "print(f\"Número total de elementos: {num_elementos} ({tipo})\")\n"
   ]
  },
  {
   "cell_type": "markdown",
   "metadata": {},
   "source": [
    "### Exercicio 5"
   ]
  },
  {
   "cell_type": "code",
   "execution_count": 31,
   "metadata": {},
   "outputs": [
    {
     "name": "stdout",
     "output_type": "stream",
     "text": [
      "[15.   32.75 33.5  22.75]\n",
      "[28.75 23.25 32.75 19.25]\n",
      "Matriz gerada:\n",
      " [[ 9 36 15  0]\n",
      " [49 28 25 29]\n",
      " [48 29 49  8]\n",
      " [ 9  0 42 40]]\n",
      "\n",
      "Média de cada linha: [15.   32.75 33.5  22.75]\n",
      "Média de cada coluna: [28.75 23.25 32.75 19.25]\n",
      "\n",
      "Maior média das linhas: 33.5\n",
      "Maior média das colunas: 32.75\n"
     ]
    }
   ],
   "source": [
    "np.random.seed(10)\n",
    "\n",
    "matriz= np.random.randint(0,50,[4,4])\n",
    "\n",
    "media_linhas = matriz.mean(axis=1)\n",
    "media_colunas = matriz.mean(axis=0)\n",
    "\n",
    "print(media_linhas)\n",
    "print(media_colunas)\n",
    "\n",
    "maxMedia_linha = np.max(media_linhas)\n",
    "maxMedia_coluna = np.max(media_colunas)\n",
    "\n",
    "\n",
    "print(\"Matriz gerada:\\n\", matriz)\n",
    "print(\"\\nMédia de cada linha:\", media_linhas)\n",
    "print(\"Média de cada coluna:\", media_colunas)\n",
    "print(\"\\nMaior média das linhas:\", maxMedia_linha)\n",
    "print(\"Maior média das colunas:\", maxMedia_coluna)"
   ]
  }
 ],
 "metadata": {
  "kernelspec": {
   "display_name": "Python 3",
   "language": "python",
   "name": "python3"
  },
  "language_info": {
   "codemirror_mode": {
    "name": "ipython",
    "version": 3
   },
   "file_extension": ".py",
   "mimetype": "text/x-python",
   "name": "python",
   "nbconvert_exporter": "python",
   "pygments_lexer": "ipython3",
   "version": "3.13.0"
  }
 },
 "nbformat": 4,
 "nbformat_minor": 2
}
