{
 "cells": [
  {
   "cell_type": "markdown",
   "metadata": {},
   "source": [
    "### Exercicio 1"
   ]
  },
  {
   "cell_type": "code",
   "execution_count": 73,
   "metadata": {},
   "outputs": [
    {
     "name": "stdout",
     "output_type": "stream",
     "text": [
      "89.71%\n"
     ]
    }
   ],
   "source": [
    "import numpy as np\n",
    "\n",
    "dataset = np.loadtxt('space.csv',delimiter =';',\n",
    "                     dtype='str',encoding='utf-8')\n",
    "missao = dataset[1:, -1]\n",
    "total_missoes = len(missao)\n",
    "sucedida= np.sum(missao== \"Success\")\n",
    "print(f\"{(sucedida/total_missoes)*100:.2f}%\")\n",
    "\n",
    "\n"
   ]
  },
  {
   "cell_type": "markdown",
   "metadata": {},
   "source": [
    "### Exercicio 2"
   ]
  },
  {
   "cell_type": "code",
   "execution_count": 28,
   "metadata": {},
   "outputs": [
    {
     "name": "stdout",
     "output_type": "stream",
     "text": [
      "A média dos custos é de:153.79 \n"
     ]
    }
   ],
   "source": [
    "\n",
    "\n",
    "cost= dataset[1:,-2]\n",
    "\n",
    "cost= cost.astype(float)\n",
    "count= cost[cost>0]\n",
    "\n",
    "media=np.mean(count)\n",
    "\n",
    "\n",
    "\n",
    "print(f\"A média dos custos é de:{media:.2f} \")"
   ]
  },
  {
   "cell_type": "markdown",
   "metadata": {},
   "source": [
    "### Exercicio 3"
   ]
  },
  {
   "cell_type": "code",
   "execution_count": 76,
   "metadata": {},
   "outputs": [
    {
     "name": "stdout",
     "output_type": "stream",
     "text": [
      "Missões realizadas pelo EUA são de 1344\n"
     ]
    }
   ],
   "source": [
    "location= dataset[1:,2]\n",
    "\n",
    "count=location[np.char.find(location,'USA')>0]\n",
    "\n",
    "print(f\"Missões realizadas pelo EUA são de {len(count)}\")"
   ]
  },
  {
   "cell_type": "markdown",
   "metadata": {},
   "source": [
    "### Exercicio 4"
   ]
  },
  {
   "cell_type": "code",
   "execution_count": null,
   "metadata": {},
   "outputs": [
    {
     "name": "stdout",
     "output_type": "stream",
     "text": [
      "O maior custo é: 90.0\n"
     ]
    }
   ],
   "source": [
    "space = dataset[1:, :]  \n",
    "\n",
    "\n",
    "space_data = space[space[:, 1] == 'SpaceX']  \n",
    "\n",
    "custo = space_data[:, -2].astype(float)\n",
    "\n",
    "total = np.max(custo)\n",
    "print(f\"O maior custo é: {total}\")"
   ]
  },
  {
   "cell_type": "code",
   "execution_count": 80,
   "metadata": {},
   "outputs": [
    {
     "name": "stdout",
     "output_type": "stream",
     "text": [
      "AEB:3\n",
      "AMBA:8\n",
      "ASI:9\n",
      "Arianespace:279\n",
      "Arm??e de l'Air:4\n",
      "Blue Origin:12\n",
      "Boeing:136\n",
      "CASC:251\n",
      "CASIC:5\n",
      "CECLES:4\n",
      "CNES:8\n",
      "Company Name:1\n",
      "Douglas:1\n",
      "EER:1\n",
      "ESA:13\n",
      "Eurockot:13\n",
      "ExPace:10\n",
      "Exos:4\n",
      "General Dynamics:251\n",
      "IAI:11\n",
      "ILS:46\n",
      "IRGC:1\n",
      "ISA:13\n",
      "ISAS:30\n",
      "ISRO:76\n",
      "JAXA:7\n",
      "KARI:3\n",
      "KCST:5\n",
      "Khrunichev:1\n",
      "Kosmotras:22\n",
      "Land Launch:7\n",
      "Landspace:1\n",
      "Lockheed:79\n",
      "MHI:84\n",
      "MITT:7\n",
      "Martin Marietta:114\n",
      "NASA:203\n",
      "Northrop:83\n",
      "OKB-586:2\n",
      "OneSpace:1\n",
      "RAE:2\n",
      "RVSN USSR:1777\n",
      "Rocket Lab:13\n",
      "Roscosmos:55\n",
      "SRC:3\n",
      "Sandia:1\n",
      "Sea Launch:36\n",
      "SpaceX:100\n",
      "Starsem:1\n",
      "ULA:140\n",
      "US Air Force:161\n",
      "US Navy:17\n",
      "UT:5\n",
      "VKS RF:201\n",
      "Virgin Orbit:1\n",
      "Yuzhmash:2\n",
      "i-Space:1\n"
     ]
    }
   ],
   "source": [
    "space, quantidade = np.unique(dataset[:,1],return_counts=True)\n",
    "\n",
    "for space,qtd in zip(space,quantidade):\n",
    "   \n",
    "    print(f\"{space}:{qtd}\")"
   ]
  }
 ],
 "metadata": {
  "kernelspec": {
   "display_name": "Python 3",
   "language": "python",
   "name": "python3"
  },
  "language_info": {
   "codemirror_mode": {
    "name": "ipython",
    "version": 3
   },
   "file_extension": ".py",
   "mimetype": "text/x-python",
   "name": "python",
   "nbconvert_exporter": "python",
   "pygments_lexer": "ipython3",
   "version": "3.13.0"
  }
 },
 "nbformat": 4,
 "nbformat_minor": 2
}
