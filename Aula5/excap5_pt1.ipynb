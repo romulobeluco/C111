{
 "cells": [
  {
   "cell_type": "markdown",
   "metadata": {},
   "source": [
    "### Exercicio 1"
   ]
  },
  {
   "cell_type": "code",
   "execution_count": null,
   "metadata": {},
   "outputs": [],
   "source": [
    "import pandas as pd\n",
    "import numpy as np\n",
    "\n",
    "seriesAno1 = pd.Series([16.25, 16.04, 9.85], index=['Java', 'C', 'Python'])\n",
    "seriesAno2 = pd.Series([16.21, 12.12, 11.68], index=['C', 'Python', 'Java'])\n",
    "\n"
   ]
  },
  {
   "cell_type": "markdown",
   "metadata": {},
   "source": [
    "### Exercicio 2\n"
   ]
  },
  {
   "cell_type": "code",
   "execution_count": 25,
   "metadata": {},
   "outputs": [
    {
     "name": "stdout",
     "output_type": "stream",
     "text": [
      "A porcentagem que o python é usado nos 2 anos é de 21.97%\n",
      "A porcentagem que o Java é usado nos 2 anos é de 27.93%\n",
      "A porcentagem que o C é usado nos 2 anos é de 32.25%\n"
     ]
    }
   ],
   "source": [
    "total_python= seriesAno1['Python']+seriesAno2['Python']\n",
    "print(f\"A porcentagem que o python é usado nos 2 anos é de {total_python}%\")\n",
    "\n",
    "total_java= seriesAno1['Java']+seriesAno2['Java']\n",
    "print(f\"A porcentagem que o Java é usado nos 2 anos é de {total_java}%\")\n",
    "\n",
    "total_C= seriesAno1['C']+seriesAno2['C']\n",
    "print(f\"A porcentagem que o C é usado nos 2 anos é de {total_C}%\")"
   ]
  },
  {
   "cell_type": "markdown",
   "metadata": {},
   "source": [
    "### Exercicio 3"
   ]
  },
  {
   "cell_type": "code",
   "execution_count": 36,
   "metadata": {},
   "outputs": [
    {
     "name": "stdout",
     "output_type": "stream",
     "text": [
      "Houve aumento no valor de Python de 23.045685279187815% \n",
      "Houve declínio no valor de Java de 28.123076923076923%\n",
      "Houve aumento no valor de C de 1.0598503740648486% \n"
     ]
    }
   ],
   "source": [
    "\n",
    "\n",
    "python= (seriesAno2['Python'] - seriesAno1['Python']) / seriesAno1['Python'] * 100\n",
    "\n",
    "\n",
    "if python > 0:\n",
    "    print(f\"Houve aumento no valor de Python de {python}% \")\n",
    "else:\n",
    "    print(f\"Houve declínio no valor de Python de {-python}%\")\n",
    "\n",
    "\n",
    "java= (seriesAno2['Java'] - seriesAno1['Java']) / seriesAno1['Java'] * 100\n",
    "\n",
    "\n",
    "if java > 0:\n",
    "    print(f\"Houve aumento no valor de Java de {java}% \")\n",
    "else:\n",
    "    print(f\"Houve declínio no valor de Java de {-java}%\")\n",
    "\n",
    "\n",
    "C= (seriesAno2['C'] - seriesAno1['C']) / seriesAno1['C'] * 100\n",
    "\n",
    "\n",
    "if C > 0:\n",
    "    print(f\"Houve aumento no valor de C de {C}% \")\n",
    "else:\n",
    "    print(f\"Houve declínio no valor de C de {-C}%\")\n"
   ]
  },
  {
   "cell_type": "markdown",
   "metadata": {},
   "source": [
    "### Exercicio 4"
   ]
  },
  {
   "cell_type": "code",
   "execution_count": 37,
   "metadata": {},
   "outputs": [
    {
     "name": "stdout",
     "output_type": "stream",
     "text": [
      "Houve aumento no valor de Python de 23.045685279187815% \n",
      "Houve aumento no valor de C de 1.0598503740648486% \n"
     ]
    }
   ],
   "source": [
    "if python > 0:\n",
    "    print(f\"Houve aumento no valor de Python de {python}% \")\n",
    "\n",
    "if java > 0:\n",
    "    print(f\"Houve aumento no valor de Java de {java}% \")\n",
    "\n",
    "if C > 0:\n",
    "    print(f\"Houve aumento no valor de C de {C}% \")"
   ]
  },
  {
   "cell_type": "markdown",
   "metadata": {},
   "source": [
    "### Exercicio 5"
   ]
  },
  {
   "cell_type": "code",
   "execution_count": null,
   "metadata": {},
   "outputs": [
    {
     "name": "stdout",
     "output_type": "stream",
     "text": [
      "Linguagem mais popular: Python\n"
     ]
    }
   ],
   "source": [
    "taxa_crescimento = (seriesAno2 - seriesAno1) / seriesAno1\n",
    "\n",
    "projecao = seriesAno2 * (1 + taxa_crescimento) ** 2\n",
    "\n",
    "linguagem_popular = projecao.nlargest(1)\n",
    "\n",
    "\n",
    "print(f\"Linguagem mais popular: {linguagem_popular.index[0]}\")"
   ]
  },
  {
   "cell_type": "markdown",
   "metadata": {},
   "source": [
    "### Exercicio 6"
   ]
  },
  {
   "cell_type": "code",
   "execution_count": 47,
   "metadata": {},
   "outputs": [
    {
     "name": "stdout",
     "output_type": "stream",
     "text": [
      "42.0\n"
     ]
    }
   ],
   "source": [
    "\n",
    "df = pd.DataFrame(\n",
    "    data=[\n",
    "        [10, 37, 16, 1],\n",
    "        [29, 26, 30, 49],\n",
    "        [30, 9, 10, 1],\n",
    "        [43, 41, 37, 17],\n",
    "        [37, 48, 12, 25]],\n",
    "    index=['A', 'B', 'C', 'D', 'E'],  \n",
    "    columns=['W', 'X', 'Y','Z'])\n",
    "\n",
    "\n",
    "print(df.loc[df['X']>30,'X'].mean())\n",
    "\n",
    "\n"
   ]
  },
  {
   "cell_type": "markdown",
   "metadata": {},
   "source": [
    "### Exercicio 7"
   ]
  },
  {
   "cell_type": "code",
   "execution_count": 51,
   "metadata": {},
   "outputs": [
    {
     "name": "stdout",
     "output_type": "stream",
     "text": [
      "34.5\n"
     ]
    }
   ],
   "source": [
    "print(df.loc['D'].mean())"
   ]
  },
  {
   "cell_type": "markdown",
   "metadata": {},
   "source": [
    "### Exercicio 8"
   ]
  },
  {
   "cell_type": "code",
   "execution_count": 12,
   "metadata": {},
   "outputs": [
    {
     "ename": "NameError",
     "evalue": "name 'df' is not defined",
     "output_type": "error",
     "traceback": [
      "\u001b[1;31m---------------------------------------------------------------------------\u001b[0m",
      "\u001b[1;31mNameError\u001b[0m                                 Traceback (most recent call last)",
      "Cell \u001b[1;32mIn[12], line 1\u001b[0m\n\u001b[1;32m----> 1\u001b[0m d \u001b[38;5;241m=\u001b[39m \u001b[43mdf\u001b[49m\u001b[38;5;241m.\u001b[39mloc[[\u001b[38;5;124m'\u001b[39m\u001b[38;5;124mA\u001b[39m\u001b[38;5;124m'\u001b[39m, \u001b[38;5;124m'\u001b[39m\u001b[38;5;124mC\u001b[39m\u001b[38;5;124m'\u001b[39m, \u001b[38;5;124m'\u001b[39m\u001b[38;5;124mE\u001b[39m\u001b[38;5;124m'\u001b[39m], [\u001b[38;5;124m'\u001b[39m\u001b[38;5;124mX\u001b[39m\u001b[38;5;124m'\u001b[39m, \u001b[38;5;124m'\u001b[39m\u001b[38;5;124mY\u001b[39m\u001b[38;5;124m'\u001b[39m]]\n\u001b[0;32m      4\u001b[0m linhas\u001b[38;5;241m=\u001b[39m d\u001b[38;5;241m.\u001b[39msum(axis\u001b[38;5;241m=\u001b[39m\u001b[38;5;241m1\u001b[39m)\n\u001b[0;32m      5\u001b[0m colunas\u001b[38;5;241m=\u001b[39m d\u001b[38;5;241m.\u001b[39msum(axis\u001b[38;5;241m=\u001b[39m\u001b[38;5;241m0\u001b[39m)\n",
      "\u001b[1;31mNameError\u001b[0m: name 'df' is not defined"
     ]
    }
   ],
   "source": [
    "\n",
    "d = df.loc[['A', 'C', 'E'], ['X', 'Y']]\n",
    "\n",
    "\n",
    "linhas= d.sum(axis=1)\n",
    "colunas= d.sum(axis=0)\n",
    "\n",
    "print(linhas)\n",
    "print(colunas)\n",
    "\n"
   ]
  }
 ],
 "metadata": {
  "kernelspec": {
   "display_name": "Python 3",
   "language": "python",
   "name": "python3"
  },
  "language_info": {
   "codemirror_mode": {
    "name": "ipython",
    "version": 3
   },
   "file_extension": ".py",
   "mimetype": "text/x-python",
   "name": "python",
   "nbconvert_exporter": "python",
   "pygments_lexer": "ipython3",
   "version": "3.13.0"
  }
 },
 "nbformat": 4,
 "nbformat_minor": 2
}
