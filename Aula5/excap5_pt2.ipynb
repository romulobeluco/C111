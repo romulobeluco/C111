{
 "cells": [
  {
   "cell_type": "markdown",
   "metadata": {},
   "source": [
    "### Exercicio 1"
   ]
  },
  {
   "cell_type": "code",
   "execution_count": 22,
   "metadata": {},
   "outputs": [
    {
     "name": "stdout",
     "output_type": "stream",
     "text": [
      "                   Country                               Region\n",
      "3          American Samoa   OCEANIA                            \n",
      "11              Australia   OCEANIA                            \n",
      "47           Cook Islands   OCEANIA                            \n",
      "67                   Fiji   OCEANIA                            \n",
      "71       French Polynesia   OCEANIA                            \n",
      "83                   Guam   OCEANIA                            \n",
      "108              Kiribati   OCEANIA                            \n",
      "130      Marshall Islands   OCEANIA                            \n",
      "136  Micronesia, Fed. St.   OCEANIA                            \n",
      "144                 Nauru   OCEANIA                            \n",
      "148         New Caledonia   OCEANIA                            \n",
      "149           New Zealand   OCEANIA                            \n",
      "153    N. Mariana Islands   OCEANIA                            \n",
      "157                 Palau   OCEANIA                            \n",
      "159      Papua New Guinea   OCEANIA                            \n",
      "176                 Samoa   OCEANIA                            \n",
      "187       Solomon Islands   OCEANIA                            \n",
      "203                 Tonga   OCEANIA                            \n",
      "209                Tuvalu   OCEANIA                            \n",
      "217               Vanuatu   OCEANIA                            \n",
      "221     Wallis and Futuna   OCEANIA                            \n",
      "-----------------------LETRA B -------------------------\n",
      "21\n"
     ]
    }
   ],
   "source": [
    "import pandas as pd\n",
    "\n",
    "dfPaises = pd.read_csv('paises.csv', delimiter=';')\n",
    "\n",
    "\n",
    "oceania_paises = dfPaises[dfPaises['Region'].str.contains('OCEANIA')]\n",
    "\n",
    "\n",
    "print(oceania_paises[['Country', 'Region']])\n",
    "\n",
    "#LETRA B\n",
    "\n",
    "print('-----------------------LETRA B -------------------------')\n",
    "\n",
    "print(len(oceania_paises))\n",
    "\n"
   ]
  },
  {
   "cell_type": "markdown",
   "metadata": {},
   "source": [
    "### Exercicio 2"
   ]
  },
  {
   "cell_type": "code",
   "execution_count": 23,
   "metadata": {},
   "outputs": [
    {
     "name": "stdout",
     "output_type": "stream",
     "text": [
      "Country                           China \n",
      "Region     ASIA (EX. NEAR EAST)         \n",
      "Name: 42, dtype: object\n"
     ]
    }
   ],
   "source": [
    "dfPaises['Population'] = pd.to_numeric(dfPaises['Population'], errors='coerce')\n",
    "pais_pop = dfPaises.loc[dfPaises['Population'].idxmax(), ['Country', 'Region']]\n",
    "print(pais_pop)"
   ]
  },
  {
   "cell_type": "markdown",
   "metadata": {},
   "source": [
    "### Exercicio 3"
   ]
  },
  {
   "cell_type": "code",
   "execution_count": 26,
   "metadata": {},
   "outputs": [
    {
     "name": "stdout",
     "output_type": "stream",
     "text": [
      "Region\n",
      "ASIA (EX. NEAR EAST)                   79.553571\n",
      "BALTICS                                99.733333\n",
      "C.W. OF IND. STATES                    98.725000\n",
      "EASTERN EUROPE                         72.816667\n",
      "LATIN AMER. & CARIB                    88.640000\n",
      "NEAR EAST                              69.581250\n",
      "NORTHERN AFRICA                        56.033333\n",
      "NORTHERN AMERICA                       78.200000\n",
      "OCEANIA                                71.914286\n",
      "SUB-SAHARAN AFRICA                     61.284314\n",
      "WESTERN EUROPE                         80.821429\n",
      "Name: Literacy (%), dtype: float64\n"
     ]
    }
   ],
   "source": [
    "alfabetizacao = dfPaises.groupby('Region')['Literacy (%)'].mean()\n",
    "print(alfabetizacao)"
   ]
  },
  {
   "cell_type": "markdown",
   "metadata": {},
   "source": [
    "### Exercicio 4"
   ]
  },
  {
   "cell_type": "code",
   "execution_count": 27,
   "metadata": {},
   "outputs": [],
   "source": [
    "sem_costa = dfPaises[dfPaises['Coastline (coast/area ratio)'] == 0]\n",
    "sem_costa[['Country']].to_csv('noCoast.csv', index=False)"
   ]
  },
  {
   "cell_type": "markdown",
   "metadata": {},
   "source": [
    "### Exercicio 5"
   ]
  },
  {
   "cell_type": "code",
   "execution_count": 28,
   "metadata": {},
   "outputs": [
    {
     "name": "stdout",
     "output_type": "stream",
     "text": [
      "             Country  Deathrate Humanitarian Help\n",
      "0       Afghanistan       20.34            Urgent\n",
      "1           Albania        5.22          Balanced\n",
      "2           Algeria        4.61          Balanced\n",
      "3    American Samoa        3.27          Balanced\n",
      "4           Andorra        6.25          Balanced\n",
      "..               ...        ...               ...\n",
      "222       West Bank        3.92          Balanced\n",
      "223  Western Sahara        0.00          Balanced\n",
      "224           Yemen        8.30          Balanced\n",
      "225          Zambia       19.93            Urgent\n",
      "226        Zimbabwe       21.84            Urgent\n",
      "\n",
      "[227 rows x 3 columns]\n"
     ]
    }
   ],
   "source": [
    "def classificar(deathrate):\n",
    "    if deathrate < 9:\n",
    "        return 'Balanced'\n",
    "    else:\n",
    "        return 'Urgent'\n",
    " \n",
    "dfPaises['Humanitarian Help'] = dfPaises['Deathrate'].apply(classificar)\n",
    " \n",
    "print(dfPaises[['Country', 'Deathrate', 'Humanitarian Help']])"
   ]
  }
 ],
 "metadata": {
  "kernelspec": {
   "display_name": "Python 3",
   "language": "python",
   "name": "python3"
  },
  "language_info": {
   "codemirror_mode": {
    "name": "ipython",
    "version": 3
   },
   "file_extension": ".py",
   "mimetype": "text/x-python",
   "name": "python",
   "nbconvert_exporter": "python",
   "pygments_lexer": "ipython3",
   "version": "3.13.0"
  }
 },
 "nbformat": 4,
 "nbformat_minor": 2
}
