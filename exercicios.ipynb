{
 "cells": [
  {
   "cell_type": "markdown",
   "metadata": {},
   "source": [
    "# Exercicio 1\n"
   ]
  },
  {
   "cell_type": "code",
   "execution_count": null,
   "metadata": {},
   "outputs": [
    {
     "name": "stdout",
     "output_type": "stream",
     "text": [
      "ROMULO\n",
      "romulo\n",
      "Nome atualizado: Romulo do Inatel\n",
      "6\n"
     ]
    }
   ],
   "source": [
    "nome= input(\"Digite seu nome:\")\n",
    "\n",
    "print(nome.upper())\n",
    "print(nome.lower())\n",
    "\n",
    "count=0\n",
    "\n",
    "for i in nome:\n",
    "    if i.isalpha():\n",
    "        count=count+1\n",
    "\n",
    "\n",
    "partes=nome.split()\n",
    "\n",
    "if len(partes) > 1:\n",
    "    partes[-1] = \"do Inatel\"\n",
    "\n",
    "else:\n",
    "    partes.append(\"do Inatel\")\n",
    "\n",
    "novo_nome = ' '.join(partes)  \n",
    "\n",
    "print(count)\n",
    "\n",
    "print(f\"Nome atualizado: {novo_nome}\")\n",
    "\n",
    "\n",
    "\n",
    "\n",
    "\n",
    "\n",
    "\n",
    "\n",
    "\n",
    "        "
   ]
  },
  {
   "cell_type": "markdown",
   "metadata": {},
   "source": [
    "# Exercicio 2\n"
   ]
  },
  {
   "cell_type": "code",
   "execution_count": 20,
   "metadata": {},
   "outputs": [
    {
     "name": "stdout",
     "output_type": "stream",
     "text": [
      "1 x 2 = 2\n",
      "1 x 3 = 3\n"
     ]
    }
   ],
   "source": [
    "numero=int(input(\"Digite um numero que quer saber a tabuada: \"))\n",
    "\n",
    "inferior=int(input(\"Digite o número que começa a multiplicação\"))\n",
    "superior=int(input(\"Digite o número que termina a multiplicação\"))\n",
    "\n",
    "for i in range(inferior,superior+1):\n",
    "    print(f\"{numero} x {i} = {i * numero}\")\n"
   ]
  },
  {
   "cell_type": "markdown",
   "metadata": {},
   "source": [
    "# Exercicio 3"
   ]
  },
  {
   "cell_type": "code",
   "execution_count": 23,
   "metadata": {},
   "outputs": [
    {
     "name": "stdout",
     "output_type": "stream",
     "text": [
      "Sexo registrado com sucesso\n"
     ]
    }
   ],
   "source": [
    "sexo=input(\"Digite o seu sexo (F - feminino | M- masculino)\").upper()\n",
    "\n",
    "while sexo != 'M' and sexo !='F':\n",
    "    sexo=input(\"Digite o seu sexo (F - feminino | M- masculino)\").upper()\n",
    "\n",
    "\n",
    "print(\"Sexo registrado com sucesso\")   \n",
    "\n",
    "\n"
   ]
  },
  {
   "cell_type": "markdown",
   "metadata": {},
   "source": [
    "## Exercicio 4\n"
   ]
  },
  {
   "cell_type": "code",
   "execution_count": 2,
   "metadata": {},
   "outputs": [
    {
     "name": "stdout",
     "output_type": "stream",
     "text": [
      "Total a pagar: R$ 100.0\n"
     ]
    }
   ],
   "source": [
    "km = float(input(\"Digite a distância percorrida: \"))  \n",
    "\n",
    "if km <= 200:\n",
    "    total = km * 0.5  \n",
    "else:\n",
    "    total = km * 0.45\n",
    "\n",
    "print(f\"Total a pagar: R$ {total}\") \n"
   ]
  },
  {
   "cell_type": "markdown",
   "metadata": {},
   "source": [
    "## Exercicio 5"
   ]
  },
  {
   "cell_type": "code",
   "execution_count": 3,
   "metadata": {},
   "outputs": [
    {
     "name": "stdout",
     "output_type": "stream",
     "text": [
      "Unidade: 0\n",
      "Dezena: 7\n",
      "Centena: 0\n",
      "Milhar: 0\n"
     ]
    }
   ],
   "source": [
    "num = int(input(\"Digite um número entre 1000 e 9999: \"))\n",
    "\n",
    "unidade = num % 10\n",
    "dezena = (num // 10) % 10\n",
    "centena = (num // 100) % 10\n",
    "milhar = (num // 1000) % 10\n",
    "\n",
    "print(f\"Unidade: {unidade}\")\n",
    "print(f\"Dezena: {dezena}\")\n",
    "print(f\"Centena: {centena}\")\n",
    "print(f\"Milhar: {milhar}\")"
   ]
  },
  {
   "cell_type": "markdown",
   "metadata": {},
   "source": [
    "## Exercicio 6"
   ]
  },
  {
   "cell_type": "code",
   "execution_count": 6,
   "metadata": {},
   "outputs": [
    {
     "name": "stdout",
     "output_type": "stream",
     "text": [
      "Raiz quadrada: 2.32379000772445\n",
      "Função teto: 6\n",
      "Função chão: 5\n",
      "Parte inteira: 5\n"
     ]
    }
   ],
   "source": [
    "import math\n",
    "\n",
    "numero = float(input(\"Digite um número decimal: \"))\n",
    "\n",
    "raiz_quadrada = math.sqrt(numero)\n",
    "teto = math.ceil(numero)\n",
    "chao = math.floor(numero)\n",
    "parte_inteira = int(numero)\n",
    "\n",
    "print(f\"Raiz quadrada: {raiz_quadrada}\")\n",
    "print(f\"Função teto: {teto}\")\n",
    "print(f\"Função chão: {chao}\")\n",
    "print(f\"Parte inteira: {parte_inteira}\")"
   ]
  }
 ],
 "metadata": {
  "kernelspec": {
   "display_name": "Python 3",
   "language": "python",
   "name": "python3"
  },
  "language_info": {
   "codemirror_mode": {
    "name": "ipython",
    "version": 3
   },
   "file_extension": ".py",
   "mimetype": "text/x-python",
   "name": "python",
   "nbconvert_exporter": "python",
   "pygments_lexer": "ipython3",
   "version": "3.13.0"
  }
 },
 "nbformat": 4,
 "nbformat_minor": 2
}
